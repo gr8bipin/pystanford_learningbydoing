{
 "cells": [
  {
   "cell_type": "code",
   "execution_count": 14,
   "id": "15216927",
   "metadata": {},
   "outputs": [],
   "source": [
    "# Python random library"
   ]
  },
  {
   "cell_type": "code",
   "execution_count": 15,
   "id": "cb4d1a30",
   "metadata": {},
   "outputs": [],
   "source": [
    "import random"
   ]
  },
  {
   "cell_type": "code",
   "execution_count": 18,
   "id": "ef7b2631",
   "metadata": {},
   "outputs": [
    {
     "name": "stdout",
     "output_type": "stream",
     "text": [
      "The random number between min and max numbers is 5\n"
     ]
    }
   ],
   "source": [
    "# Write a program that returns a random integer between min and max, inclusive.\n",
    "\n",
    "def main():\n",
    "    number = [0, 1, 2, 3, 4, 5]\n",
    "    min = 0\n",
    "    max = 5\n",
    "    num = random.randint(min, max)\n",
    "    print(\"The random number between min and max numbers is\", num)\n",
    "\n",
    "if __name__ == \"__main__\":\n",
    "    main()"
   ]
  },
  {
   "cell_type": "code",
   "execution_count": 25,
   "id": "3960bf2e",
   "metadata": {},
   "outputs": [
    {
     "name": "stdout",
     "output_type": "stream",
     "text": [
      "The real random number between 0 and 1 is 0.7499282405926926\n"
     ]
    }
   ],
   "source": [
    "# Write a program that returns a random real number (float) between 0 and 1.\n",
    "\n",
    "def main():\n",
    "    random_real_number = random.random()\n",
    "    print(\"The real random number between 0 and 1 is\", random_real_number)\n",
    "\n",
    "if __name__ == \"__main__\":\n",
    "    main()"
   ]
  },
  {
   "cell_type": "code",
   "execution_count": 34,
   "id": "f42c6485",
   "metadata": {},
   "outputs": [
    {
     "name": "stdout",
     "output_type": "stream",
     "text": [
      "The random real number(float) between min and max is 0.9829713899622888\n"
     ]
    }
   ],
   "source": [
    "# Write a program to return a random real number (float) between min and max.\n",
    "\n",
    "def main():\n",
    "    number = [0, 1, 2, 3, 4, 5]\n",
    "    min = 0\n",
    "    max = 5\n",
    "    random_real_number = random.uniform(min, max)\n",
    "    print(\"The random real number(float) between min and max is\", random_real_number)\n",
    "\n",
    "if __name__ == \"__main__\":\n",
    "    main()"
   ]
  },
  {
   "cell_type": "code",
   "execution_count": 43,
   "id": "21100112",
   "metadata": {},
   "outputs": [
    {
     "name": "stdout",
     "output_type": "stream",
     "text": [
      "---Using Seed: 123---\n",
      "Generated numbers:\n",
      "1\n",
      "5\n",
      "2\n",
      "---------------\n",
      "---Using Seed: 123---\n",
      "Generated numbers:\n",
      "1\n",
      "5\n",
      "2\n",
      "---------------\n",
      "---Using Seed: 123---\n",
      "Generated numbers:\n",
      "1\n",
      "5\n",
      "2\n",
      "---------------\n",
      "---Using Seed: 456---\n",
      "Generated numbers:\n",
      "8\n",
      "8\n",
      "7\n",
      "---------------\n",
      "---Running without explicit seed---\n",
      "Generated numbers:\n",
      "7\n",
      "1\n",
      "10\n"
     ]
    }
   ],
   "source": [
    "# Write a simple program that uses random.seed() to demonstrate how it makes random number generation predictable.\n",
    "\n",
    "\"\"\"Simple program with random.seed()\"\"\"\n",
    "\n",
    "def generate_numbers_with_seed(seed_value):\n",
    "\n",
    "    \"\"\"\n",
    "    Sets a specific random seed and generates a sequence of random numbers.\n",
    "    \"\"\"\n",
    "\n",
    "    print(f\"---Using Seed: {seed_value}---\")\n",
    "    # Set the random seed\n",
    "    random.seed(seed_value)\n",
    "\n",
    "    # Generate and print 3 random integers between 1 and 10\n",
    "    print(\"Generated numbers:\")\n",
    "    for _ in range(3):\n",
    "        print(random.randint(1, 10))\n",
    "    print(\"-\" * 15)\n",
    "\n",
    "    # Run the function with the same seed multiple times\n",
    "generate_numbers_with_seed(123)\n",
    "generate_numbers_with_seed(123)\n",
    "generate_numbers_with_seed(123)\n",
    "\n",
    "    # Run the function with a different seed\n",
    "generate_numbers_with_seed(456)\n",
    "\n",
    "    # Run without setting a seed (will likely produce different results each time)\n",
    "print(\"---Running without explicit seed---\")\n",
    "print(\"Generated numbers:\")\n",
    "for _ in range(3):\n",
    "    print(random.randint(1, 10))"
   ]
  },
  {
   "cell_type": "code",
   "execution_count": 45,
   "id": "e13c8df8",
   "metadata": {},
   "outputs": [
    {
     "name": "stdout",
     "output_type": "stream",
     "text": [
      "Dice have 6 sides each.\n",
      "First die: 6\n",
      "Second die: 5\n",
      "Total of two dice: 11\n"
     ]
    }
   ],
   "source": [
    "# rolldice.py\n",
    "\n",
    "# Example of using random library\n",
    "\n",
    "\"\"\"\n",
    "File: rolldice.py\n",
    "-----------------\n",
    "Simulate rolling two dice\n",
    "\"\"\"\n",
    "\n",
    "import random\n",
    "\n",
    "NUM_SIDES = 6\n",
    "\n",
    "def main():\n",
    "    # setting seed is useful for debugging\n",
    "    # random.seed(1)\n",
    "\n",
    "    die1 = random.randint(1, NUM_SIDES)\n",
    "    die2 = random.randint(1, NUM_SIDES)\n",
    "    total = die1 + die2\n",
    "    print(\"Dice have\", NUM_SIDES, \"sides each.\")\n",
    "    print(\"First die:\", die1)\n",
    "    print(\"Second die:\", die2)\n",
    "    print(\"Total of two dice:\", total)\n",
    "\n",
    "if __name__ == \"__main__\":\n",
    "    main()"
   ]
  },
  {
   "cell_type": "code",
   "execution_count": null,
   "id": "b5f94f75",
   "metadata": {},
   "outputs": [
    {
     "name": "stdout",
     "output_type": "stream",
     "text": [
      "die1 in main() starts as: 10\n",
      "Total of two dice: 9\n",
      "Total of two dice: 7\n",
      "Total of two dice: 9\n",
      "die1 in main() is: 10\n"
     ]
    }
   ],
   "source": [
    "# dicesimulator.py\n",
    "# This code simulates rolling two dice multiple times.\n",
    "\n",
    "import random\n",
    "\n",
    "NUM_SIDES = 6\n",
    "\n",
    "def main():\n",
    "    die1 = 10\n",
    "    print(\"die1 in main() starts as: \" + str(die1))\n",
    "    roll_dice()\n",
    "    roll_dice()\n",
    "    roll_dice()\n",
    "    print(\"die1 in main() is: \" + str(die1))\n",
    "\n",
    "def roll_dice():\n",
    "    die1 = random.randint(1, NUM_SIDES)\n",
    "    die2 = random.randint(1, NUM_SIDES)\n",
    "    total = die1 + die2\n",
    "    print(\"Total of two dice: \" + str(total))\n",
    "\n",
    "if __name__ == \"__main__\":\n",
    "    main()"
   ]
  },
  {
   "cell_type": "code",
   "execution_count": null,
   "id": "2ec705fd",
   "metadata": {},
   "outputs": [
    {
     "name": "stdout",
     "output_type": "stream",
     "text": [
      "The result of this division is 1 with a remainder of 2.\n"
     ]
    }
   ],
   "source": [
    "# Ask the user for two numbers, one at a time, and \n",
    "# then print the result of dividing the first number by the second \n",
    "# and also the remainder of the division.\n",
    " \n",
    "# Here's a sample run of the program (user input is in bold italics):\n",
    "\n",
    "# Please enter an integer to be divided: 5\n",
    "# Please enter an integer to divide by: 3\n",
    "# The result of this division is 1 with a remainder of 2\n",
    "\n",
    "def main():\n",
    "\n",
    "    num1 = int(input(\"Please enter an integer to be divided: \"))\n",
    "    num2 = int(input(\"Please enter an integer to divide by: \"))\n",
    "\n",
    "    result1 = num1 // num2\n",
    "    result2 = num1 % num2\n",
    "\n",
    "    print(\"The result of this division is \" + str(result1) + \" with a remainder of \" + str(result2) + \".\")\n",
    "\n",
    "if __name__ == \"__main__\":\n",
    "    main()"
   ]
  },
  {
   "cell_type": "code",
   "execution_count": 9,
   "id": "b32487a3",
   "metadata": {},
   "outputs": [
    {
     "name": "stdout",
     "output_type": "stream",
     "text": [
      "There are 31536000 seconds in a year!\n"
     ]
    }
   ],
   "source": [
    "# Use Python to calculate the number of seconds in a year, \n",
    "# and tell the user what the result is in a nice print statement\n",
    "# that looks like this (of course the value 5 should be the calculated number instead):\n",
    "\n",
    "# There are 5 seconds in a year!\n",
    "\n",
    "# You should use constants for this exercise -- there are 365 days in a year, 24 hours in a day,\n",
    "# 60 minutes in an hour, and 60 seconds per minute.\n",
    "\n",
    "def main():\n",
    "\n",
    "    DAYS_IN_ONE_YEAR = 365\n",
    "    HOURS_IN_ONE_DAY = 24\n",
    "    MINUTES_IN_ONE_HOUR = 60\n",
    "    SECONDS_IN_ONE_MINUTE = 60\n",
    "\n",
    "    total_seconds_in_one_year = DAYS_IN_ONE_YEAR * HOURS_IN_ONE_DAY * MINUTES_IN_ONE_HOUR * SECONDS_IN_ONE_MINUTE\n",
    "\n",
    "    print(\"There are \" + str(total_seconds_in_one_year) + \" seconds in a year!\")\n",
    "\n",
    "if __name__ == '__main__':\n",
    "    main()\n"
   ]
  },
  {
   "cell_type": "code",
   "execution_count": null,
   "id": "517a50ac",
   "metadata": {},
   "outputs": [
    {
     "name": "stdout",
     "output_type": "stream",
     "text": [
      "Code in Place is fun. I learned to program and used Python to make tiny plant fly!\n"
     ]
    }
   ],
   "source": [
    "# Write a program which prompts the user for an adjective, then a noun, then a verb, and \n",
    "# then prints a fun sentence with those words!\n",
    "\n",
    "# Mad Libs is a word game where players are prompted for one word at a time, and\n",
    "# the words are eventually filled into the blanks of a word template to make \n",
    "# an entertaining story! We've provided you with the beginning of a sentence \n",
    "# (the SENTENCE_START constant) which will end in a user-inputted adjective, noun, and\n",
    "# then verb.\n",
    "\n",
    "# Here's a sample run (user input is in bold italics):\n",
    "\n",
    "# Please type an adjective and press enter. tiny \n",
    "# Please type a noun and press enter. plant \n",
    "# Please type a verb and press enter. fly \n",
    "# Code in Place is fun. I learned to program and used Python to make my tiny plant fly!\n",
    "\n",
    "SENTENCE_START = \"Code in Place is fun. I learned to program and used Python to make\" # adjective noun verb\n",
    "\n",
    "def main():\n",
    "\n",
    "    adjective = input(\"Please type an adjective and press enter.\")\n",
    "    noun = input(\"Please type a noun and press enter.\")\n",
    "    verb = input(\"Please type a verb and press enter.\")\n",
    "\n",
    "    fun_sentence = SENTENCE_START + \" \" + adjective + \" \" + noun + \" \" + verb + \"!\"\n",
    "    print(fun_sentence)\n",
    "\n",
    "if __name__ == '__main__':\n",
    "    main()"
   ]
  },
  {
   "cell_type": "code",
   "execution_count": 14,
   "id": "f742d765",
   "metadata": {},
   "outputs": [
    {
     "name": "stdout",
     "output_type": "stream",
     "text": [
      "8.987551787368176e+18 joules of energy!\n"
     ]
    }
   ],
   "source": [
    "# Write a program that continually reads in mass from the user and \n",
    "# then outputs the equivalent energy using Einstein's mass-energy equivalence formula \n",
    "# (E stands for energy, m stands for mass, and C is the speed of light: E = m * c**2\n",
    "\n",
    "# Almost 100 years ago, Albert Einstein famously discovered that mass and energy are \n",
    "# interchangeable and are related by the above equation. You should ask the user for mass (m) \n",
    "# in kilograms and use a constant value for the speed of light -- C = 299792458 m/s.\n",
    "\n",
    "# Here's a sample run of the program (user input is in bold italics):\n",
    "# Enter kilos of mass: 100 \n",
    "# e = m * C^2... \n",
    "# m = 100.0 kg \n",
    "# C = 299792458 m/s \n",
    "# 8.987551787368176e+18 joules of energy!\n",
    "\n",
    "C = 299792458\n",
    "\n",
    "def main():\n",
    "\n",
    "    m = float(input(\"Enter kilos of mass: \"))\n",
    "    e = m * C**2\n",
    "\n",
    "    print(e, \"joules of energy!\")\n",
    "\n",
    "if __name__ == '__main__':\n",
    "    main()"
   ]
  },
  {
   "cell_type": "code",
   "execution_count": 16,
   "id": "8f37722e",
   "metadata": {},
   "outputs": [
    {
     "name": "stdout",
     "output_type": "stream",
     "text": [
      "The length of BC (the hypotenuse) is: 5.0\n"
     ]
    }
   ],
   "source": [
    "# Write a program that asks the user for the lengths of the two perpendicular sides of a \n",
    "# right triangle and outputs the length of the third side (the hypotenuse) using the Pythagorean\n",
    "# theorem!\n",
    "\n",
    "# The Pythagorean theorem, named after the ancient Greek thinker, Pythagoras, is a fundamental \n",
    "# relation in geometry. It states that in a right triangle, the square of the hypotenuse is\n",
    "# equal to the sum of the square of the other two sides.\n",
    "\n",
    "# For instance, let's consider a right triangle ABC, with the right angle located at C. \n",
    "# According to the Pythagorean theorem:\n",
    "\n",
    "# BC ** 2 = AB ** 2 + AC ** 2\n",
    "\n",
    "# Your code should read in the lengths of the sides AB and AC, and that outputs \n",
    "# the length of the hypotenuse (BC). You will probably find math.sqrt() to be useful.\n",
    "\n",
    "# Here's a sample run of the program (user input is in bold italics):\n",
    "# Enter the length of AB: 3 \n",
    "# Enter the length of AC: 4 \n",
    "# The length of BC (the hypotenuse) is: 5.0\n",
    "\n",
    "import math\n",
    "\n",
    "def main():\n",
    "\n",
    "    AB = float(input(\"Enter the length of AB: \"))\n",
    "    AC = float(input(\"Enter the length of AC: \"))\n",
    "\n",
    "    BC = math.sqrt(AB ** 2 + AC ** 2)\n",
    "\n",
    "    print(\"The length of BC (the hypotenuse) is:\", BC)\n",
    "\n",
    "if __name__ == '__main__':\n",
    "    main()"
   ]
  },
  {
   "cell_type": "code",
   "execution_count": null,
   "id": "1f7d3141",
   "metadata": {},
   "outputs": [
    {
     "name": "stdout",
     "output_type": "stream",
     "text": [
      "30\n"
     ]
    }
   ],
   "source": [
    "# Write a program which will flip a weighted coin.\n",
    "\n",
    "# Coin flips are usually fair, but can be cheated -- \n",
    "\n",
    "# a weighted coin is a coin where the probability of heads isn't 50%.\n",
    "\n",
    "# Your code should use the random module to \"flip\" coin where the probability of heads is 70% \n",
    "# and print the outcome (heads or tails).\n",
    "\n",
    "import random\n",
    "\n",
    "HEADS_WEIGHT = 0.7\n",
    "\n",
    "def main():\n",
    "    \n",
    "    # Use random.random() to generate a decimal number between 0.0 and 1.0\n",
    "    # If the randomly generated number is less than 0.7 (the weight for heads), it's heads!)\n",
    "\n",
    "    if random.random() < HEADS_WEIGHT:\n",
    "        print(\"Heads!\")\n",
    "    else:\n",
    "        print(\"Tails!\")\n",
    "\n",
    "if __name__ == '__main__':\n",
    "    main()\n"
   ]
  }
 ],
 "metadata": {
  "kernelspec": {
   "display_name": "venv",
   "language": "python",
   "name": "python3"
  },
  "language_info": {
   "codemirror_mode": {
    "name": "ipython",
    "version": 3
   },
   "file_extension": ".py",
   "mimetype": "text/x-python",
   "name": "python",
   "nbconvert_exporter": "python",
   "pygments_lexer": "ipython3",
   "version": "3.12.3"
  }
 },
 "nbformat": 4,
 "nbformat_minor": 5
}
