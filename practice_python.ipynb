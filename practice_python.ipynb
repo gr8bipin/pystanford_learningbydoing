{
 "cells": [
  {
   "cell_type": "code",
   "execution_count": 14,
   "id": "15216927",
   "metadata": {},
   "outputs": [],
   "source": [
    "# Python random library"
   ]
  },
  {
   "cell_type": "code",
   "execution_count": 15,
   "id": "cb4d1a30",
   "metadata": {},
   "outputs": [],
   "source": [
    "import random"
   ]
  },
  {
   "cell_type": "code",
   "execution_count": 18,
   "id": "ef7b2631",
   "metadata": {},
   "outputs": [
    {
     "name": "stdout",
     "output_type": "stream",
     "text": [
      "The random number between min and max numbers is 5\n"
     ]
    }
   ],
   "source": [
    "# Write a program that returns a random integer between min and max, inclusive.\n",
    "\n",
    "def main():\n",
    "    number = [0, 1, 2, 3, 4, 5]\n",
    "    min = 0\n",
    "    max = 5\n",
    "    num = random.randint(min, max)\n",
    "    print(\"The random number between min and max numbers is\", num)\n",
    "\n",
    "if __name__ == \"__main__\":\n",
    "    main()"
   ]
  },
  {
   "cell_type": "code",
   "execution_count": 25,
   "id": "3960bf2e",
   "metadata": {},
   "outputs": [
    {
     "name": "stdout",
     "output_type": "stream",
     "text": [
      "The real random number between 0 and 1 is 0.7499282405926926\n"
     ]
    }
   ],
   "source": [
    "# Write a program that returns a random real number (float) between 0 and 1.\n",
    "\n",
    "def main():\n",
    "    random_real_number = random.random()\n",
    "    print(\"The real random number between 0 and 1 is\", random_real_number)\n",
    "\n",
    "if __name__ == \"__main__\":\n",
    "    main()"
   ]
  },
  {
   "cell_type": "code",
   "execution_count": 34,
   "id": "f42c6485",
   "metadata": {},
   "outputs": [
    {
     "name": "stdout",
     "output_type": "stream",
     "text": [
      "The random real number(float) between min and max is 0.9829713899622888\n"
     ]
    }
   ],
   "source": [
    "# Write a program to return a random real number (float) between min and max.\n",
    "\n",
    "def main():\n",
    "    number = [0, 1, 2, 3, 4, 5]\n",
    "    min = 0\n",
    "    max = 5\n",
    "    random_real_number = random.uniform(min, max)\n",
    "    print(\"The random real number(float) between min and max is\", random_real_number)\n",
    "\n",
    "if __name__ == \"__main__\":\n",
    "    main()"
   ]
  },
  {
   "cell_type": "code",
   "execution_count": 43,
   "id": "21100112",
   "metadata": {},
   "outputs": [
    {
     "name": "stdout",
     "output_type": "stream",
     "text": [
      "---Using Seed: 123---\n",
      "Generated numbers:\n",
      "1\n",
      "5\n",
      "2\n",
      "---------------\n",
      "---Using Seed: 123---\n",
      "Generated numbers:\n",
      "1\n",
      "5\n",
      "2\n",
      "---------------\n",
      "---Using Seed: 123---\n",
      "Generated numbers:\n",
      "1\n",
      "5\n",
      "2\n",
      "---------------\n",
      "---Using Seed: 456---\n",
      "Generated numbers:\n",
      "8\n",
      "8\n",
      "7\n",
      "---------------\n",
      "---Running without explicit seed---\n",
      "Generated numbers:\n",
      "7\n",
      "1\n",
      "10\n"
     ]
    }
   ],
   "source": [
    "# Write a simple program that uses random.seed() to demonstrate how it makes random number generation predictable.\n",
    "\n",
    "\"\"\"Simple program with random.seed()\"\"\"\n",
    "\n",
    "def generate_numbers_with_seed(seed_value):\n",
    "\n",
    "    \"\"\"\n",
    "    Sets a specific random seed and generates a sequence of random numbers.\n",
    "    \"\"\"\n",
    "\n",
    "    print(f\"---Using Seed: {seed_value}---\")\n",
    "    # Set the random seed\n",
    "    random.seed(seed_value)\n",
    "\n",
    "    # Generate and print 3 random integers between 1 and 10\n",
    "    print(\"Generated numbers:\")\n",
    "    for _ in range(3):\n",
    "        print(random.randint(1, 10))\n",
    "    print(\"-\" * 15)\n",
    "\n",
    "    # Run the function with the same seed multiple times\n",
    "generate_numbers_with_seed(123)\n",
    "generate_numbers_with_seed(123)\n",
    "generate_numbers_with_seed(123)\n",
    "\n",
    "    # Run the function with a different seed\n",
    "generate_numbers_with_seed(456)\n",
    "\n",
    "    # Run without setting a seed (will likely produce different results each time)\n",
    "print(\"---Running without explicit seed---\")\n",
    "print(\"Generated numbers:\")\n",
    "for _ in range(3):\n",
    "    print(random.randint(1, 10))"
   ]
  },
  {
   "cell_type": "code",
   "execution_count": 45,
   "id": "e13c8df8",
   "metadata": {},
   "outputs": [
    {
     "name": "stdout",
     "output_type": "stream",
     "text": [
      "Dice have 6 sides each.\n",
      "First die: 6\n",
      "Second die: 5\n",
      "Total of two dice: 11\n"
     ]
    }
   ],
   "source": [
    "# rolldice.py\n",
    "\n",
    "# Example of using random library\n",
    "\n",
    "\"\"\"\n",
    "File: rolldice.py\n",
    "-----------------\n",
    "Simulate rolling two dice\n",
    "\"\"\"\n",
    "\n",
    "import random\n",
    "\n",
    "NUM_SIDES = 6\n",
    "\n",
    "def main():\n",
    "    # setting seed is useful for debugging\n",
    "    # random.seed(1)\n",
    "\n",
    "    die1 = random.randint(1, NUM_SIDES)\n",
    "    die2 = random.randint(1, NUM_SIDES)\n",
    "    total = die1 + die2\n",
    "    print(\"Dice have\", NUM_SIDES, \"sides each.\")\n",
    "    print(\"First die:\", die1)\n",
    "    print(\"Second die:\", die2)\n",
    "    print(\"Total of two dice:\", total)\n",
    "\n",
    "if __name__ == \"__main__\":\n",
    "    main()"
   ]
  },
  {
   "cell_type": "code",
   "execution_count": null,
   "id": "b5f94f75",
   "metadata": {},
   "outputs": [
    {
     "name": "stdout",
     "output_type": "stream",
     "text": [
      "die1 in main() starts as: 10\n",
      "Total of two dice: 9\n",
      "Total of two dice: 7\n",
      "Total of two dice: 9\n",
      "die1 in main() is: 10\n"
     ]
    }
   ],
   "source": [
    "# dicesimulator.py\n",
    "# This code simulates rolling two dice multiple times.\n",
    "\n",
    "import random\n",
    "\n",
    "NUM_SIDES = 6\n",
    "\n",
    "def main():\n",
    "    die1 = 10\n",
    "    print(\"die1 in main() starts as: \" + str(die1))\n",
    "    roll_dice()\n",
    "    roll_dice()\n",
    "    roll_dice()\n",
    "    print(\"die1 in main() is: \" + str(die1))\n",
    "\n",
    "def roll_dice():\n",
    "    die1 = random.randint(1, NUM_SIDES)\n",
    "    die2 = random.randint(1, NUM_SIDES)\n",
    "    total = die1 + die2\n",
    "    print(\"Total of two dice: \" + str(total))\n",
    "\n",
    "if __name__ == \"__main__\":\n",
    "    main()"
   ]
  },
  {
   "cell_type": "code",
   "execution_count": null,
   "id": "2ec705fd",
   "metadata": {},
   "outputs": [
    {
     "name": "stdout",
     "output_type": "stream",
     "text": [
      "The result of this division is 1 with a remainder of 2.\n"
     ]
    }
   ],
   "source": [
    "# Ask the user for two numbers, one at a time, and \n",
    "# then print the result of dividing the first number by the second \n",
    "# and also the remainder of the division.\n",
    " \n",
    "# Here's a sample run of the program (user input is in bold italics):\n",
    "\n",
    "# Please enter an integer to be divided: 5\n",
    "# Please enter an integer to divide by: 3\n",
    "# The result of this division is 1 with a remainder of 2\n",
    "\n",
    "def main():\n",
    "\n",
    "    num1 = int(input(\"Please enter an integer to be divided: \"))\n",
    "    num2 = int(input(\"Please enter an integer to divide by: \"))\n",
    "\n",
    "    result1 = num1 // num2\n",
    "    result2 = num1 % num2\n",
    "\n",
    "    print(\"The result of this division is \" + str(result1) + \" with a remainder of \" + str(result2) + \".\")\n",
    "\n",
    "if __name__ == \"__main__\":\n",
    "    main()"
   ]
  },
  {
   "cell_type": "code",
   "execution_count": 9,
   "id": "b32487a3",
   "metadata": {},
   "outputs": [
    {
     "name": "stdout",
     "output_type": "stream",
     "text": [
      "There are 31536000 seconds in a year!\n"
     ]
    }
   ],
   "source": [
    "# Use Python to calculate the number of seconds in a year, \n",
    "# and tell the user what the result is in a nice print statement\n",
    "# that looks like this (of course the value 5 should be the calculated number instead):\n",
    "\n",
    "# There are 5 seconds in a year!\n",
    "\n",
    "# You should use constants for this exercise -- there are 365 days in a year, 24 hours in a day,\n",
    "# 60 minutes in an hour, and 60 seconds per minute.\n",
    "\n",
    "def main():\n",
    "\n",
    "    DAYS_IN_ONE_YEAR = 365\n",
    "    HOURS_IN_ONE_DAY = 24\n",
    "    MINUTES_IN_ONE_HOUR = 60\n",
    "    SECONDS_IN_ONE_MINUTE = 60\n",
    "\n",
    "    total_seconds_in_one_year = DAYS_IN_ONE_YEAR * HOURS_IN_ONE_DAY * MINUTES_IN_ONE_HOUR * SECONDS_IN_ONE_MINUTE\n",
    "\n",
    "    print(\"There are \" + str(total_seconds_in_one_year) + \" seconds in a year!\")\n",
    "\n",
    "if __name__ == '__main__':\n",
    "    main()\n"
   ]
  },
  {
   "cell_type": "code",
   "execution_count": null,
   "id": "517a50ac",
   "metadata": {},
   "outputs": [
    {
     "name": "stdout",
     "output_type": "stream",
     "text": [
      "Code in Place is fun. I learned to program and used Python to make tiny plant fly!\n"
     ]
    }
   ],
   "source": [
    "# Write a program which prompts the user for an adjective, then a noun, then a verb, and \n",
    "# then prints a fun sentence with those words!\n",
    "\n",
    "# Mad Libs is a word game where players are prompted for one word at a time, and\n",
    "# the words are eventually filled into the blanks of a word template to make \n",
    "# an entertaining story! We've provided you with the beginning of a sentence \n",
    "# (the SENTENCE_START constant) which will end in a user-inputted adjective, noun, and\n",
    "# then verb.\n",
    "\n",
    "# Here's a sample run (user input is in bold italics):\n",
    "\n",
    "# Please type an adjective and press enter. tiny \n",
    "# Please type a noun and press enter. plant \n",
    "# Please type a verb and press enter. fly \n",
    "# Code in Place is fun. I learned to program and used Python to make my tiny plant fly!\n",
    "\n",
    "SENTENCE_START = \"Code in Place is fun. I learned to program and used Python to make\" # adjective noun verb\n",
    "\n",
    "def main():\n",
    "\n",
    "    adjective = input(\"Please type an adjective and press enter.\")\n",
    "    noun = input(\"Please type a noun and press enter.\")\n",
    "    verb = input(\"Please type a verb and press enter.\")\n",
    "\n",
    "    fun_sentence = SENTENCE_START + \" \" + adjective + \" \" + noun + \" \" + verb + \"!\"\n",
    "    print(fun_sentence)\n",
    "\n",
    "if __name__ == '__main__':\n",
    "    main()"
   ]
  },
  {
   "cell_type": "code",
   "execution_count": 14,
   "id": "f742d765",
   "metadata": {},
   "outputs": [
    {
     "name": "stdout",
     "output_type": "stream",
     "text": [
      "8.987551787368176e+18 joules of energy!\n"
     ]
    }
   ],
   "source": [
    "# Write a program that continually reads in mass from the user and \n",
    "# then outputs the equivalent energy using Einstein's mass-energy equivalence formula \n",
    "# (E stands for energy, m stands for mass, and C is the speed of light: E = m * c**2\n",
    "\n",
    "# Almost 100 years ago, Albert Einstein famously discovered that mass and energy are \n",
    "# interchangeable and are related by the above equation. You should ask the user for mass (m) \n",
    "# in kilograms and use a constant value for the speed of light -- C = 299792458 m/s.\n",
    "\n",
    "# Here's a sample run of the program (user input is in bold italics):\n",
    "# Enter kilos of mass: 100 \n",
    "# e = m * C^2... \n",
    "# m = 100.0 kg \n",
    "# C = 299792458 m/s \n",
    "# 8.987551787368176e+18 joules of energy!\n",
    "\n",
    "C = 299792458\n",
    "\n",
    "def main():\n",
    "\n",
    "    m = float(input(\"Enter kilos of mass: \"))\n",
    "    e = m * C**2\n",
    "\n",
    "    print(e, \"joules of energy!\")\n",
    "\n",
    "if __name__ == '__main__':\n",
    "    main()"
   ]
  },
  {
   "cell_type": "code",
   "execution_count": 16,
   "id": "8f37722e",
   "metadata": {},
   "outputs": [
    {
     "name": "stdout",
     "output_type": "stream",
     "text": [
      "The length of BC (the hypotenuse) is: 5.0\n"
     ]
    }
   ],
   "source": [
    "# Write a program that asks the user for the lengths of the two perpendicular sides of a \n",
    "# right triangle and outputs the length of the third side (the hypotenuse) using the Pythagorean\n",
    "# theorem!\n",
    "\n",
    "# The Pythagorean theorem, named after the ancient Greek thinker, Pythagoras, is a fundamental \n",
    "# relation in geometry. It states that in a right triangle, the square of the hypotenuse is\n",
    "# equal to the sum of the square of the other two sides.\n",
    "\n",
    "# For instance, let's consider a right triangle ABC, with the right angle located at C. \n",
    "# According to the Pythagorean theorem:\n",
    "\n",
    "# BC ** 2 = AB ** 2 + AC ** 2\n",
    "\n",
    "# Your code should read in the lengths of the sides AB and AC, and that outputs \n",
    "# the length of the hypotenuse (BC). You will probably find math.sqrt() to be useful.\n",
    "\n",
    "# Here's a sample run of the program (user input is in bold italics):\n",
    "# Enter the length of AB: 3 \n",
    "# Enter the length of AC: 4 \n",
    "# The length of BC (the hypotenuse) is: 5.0\n",
    "\n",
    "import math\n",
    "\n",
    "def main():\n",
    "\n",
    "    AB = float(input(\"Enter the length of AB: \"))\n",
    "    AC = float(input(\"Enter the length of AC: \"))\n",
    "\n",
    "    BC = math.sqrt(AB ** 2 + AC ** 2)\n",
    "\n",
    "    print(\"The length of BC (the hypotenuse) is:\", BC)\n",
    "\n",
    "if __name__ == '__main__':\n",
    "    main()"
   ]
  },
  {
   "cell_type": "code",
   "execution_count": 44,
   "id": "1f7d3141",
   "metadata": {},
   "outputs": [
    {
     "name": "stdout",
     "output_type": "stream",
     "text": [
      "Heads!\n"
     ]
    }
   ],
   "source": [
    "# Write a program which will flip a weighted coin.\n",
    "\n",
    "# Coin flips are usually fair, but can be cheated -- \n",
    "\n",
    "# a weighted coin is a coin where the probability of heads isn't 50%.\n",
    "\n",
    "# Your code should use the random module to \"flip\" coin where the probability of heads is 70% \n",
    "# and print the outcome (heads or tails).\n",
    "\n",
    "import random\n",
    "\n",
    "HEADS_WEIGHT = 0.7\n",
    "\n",
    "def main():\n",
    "    \n",
    "    # Use random.random() to generate a decimal number between 0.0 and 1.0\n",
    "    # If the randomly generated number is less than 0.7 (the weight for heads), it's heads!)\n",
    "\n",
    "    if random.random() < HEADS_WEIGHT:\n",
    "        print(\"Heads!\")\n",
    "    else:\n",
    "        print(\"Tails!\")\n",
    "\n",
    "if __name__ == '__main__':\n",
    "    main()\n"
   ]
  },
  {
   "cell_type": "code",
   "execution_count": 45,
   "id": "4aa51dec",
   "metadata": {},
   "outputs": [
    {
     "name": "stdout",
     "output_type": "stream",
     "text": [
      "6\n"
     ]
    }
   ],
   "source": [
    "# Write a Python program that takes two integer inputs from the user and \n",
    "# calculates the value of the first number multiplied with the second. \n",
    "# The program should perform the following tasks:\n",
    "\n",
    "# After printing \"This program multiplies two numbers.\"\n",
    "\n",
    "# 1. Prompt the user to enter the first number.\n",
    "# 2. Read the input and convert it to an integer.\n",
    "# 3. Prompt the user to enter the second number.\n",
    "# 4. Read the input and convert it to an integer.\n",
    "# 5. Calculate the value of multiplying the two numbers.\n",
    "# 6. Print the value\n",
    "\n",
    "# Here is a full run of the program (user input is in blue)\n",
    "\n",
    "# This program multiplies two numbers.\n",
    "# Enter first number: 20\n",
    "# Enter second number: 3\n",
    "# 60\n",
    "\n",
    "# In order to pass the tests you will need very specific prompts:\n",
    "\n",
    "# num1 = input(\"Enter first number: \")\n",
    "# num2 = input(\"Enter second number: \")\n",
    "\n",
    "# Don't forget to change these two values into integers.\n",
    "\n",
    "# This program is very similar to the example: \n",
    "# Add Two Numbers \n",
    "\n",
    "# Review that example and think about how you would change it \n",
    "# to make it multiply instead of add.\n",
    "\n",
    "num1 = input(\"Enter first number: \")\n",
    "num1 = int(num1)\n",
    "num2 = input(\"Enter second number: \")\n",
    "num2 = int(num2)\n",
    "\n",
    "multiplication = num1 * num2\n",
    "print(multiplication)\n"
   ]
  },
  {
   "cell_type": "code",
   "execution_count": null,
   "id": "8f2e062f",
   "metadata": {},
   "outputs": [
    {
     "name": "stdout",
     "output_type": "stream",
     "text": [
      "Your roll is 2\n"
     ]
    }
   ],
   "source": [
    "# Did you know that not all dice have 6 sides? You can find dice with 8 sides, \n",
    "# 10 sides and even 20 sides. Here are a few examples:\n",
    "\n",
    "# Write a program which takes as input the number of sides on a dice.  \n",
    "# Then, simulate rolling a dice with that many sides. \n",
    "# Print the outcome of the roll. When you're done, click on the \"Check Correct\" button.\n",
    "\n",
    "# Here is the terminal output for an example run of the program (user input in blue):\n",
    "\n",
    "# How many sides does your dice have? 10  \n",
    "# Your roll is 8\n",
    "\n",
    "# Here is another example where the number of sides is 100:\n",
    "\n",
    "# How many sides does your dice have? 100  \n",
    "# Your roll is 76 \n",
    "\n",
    "# If a dice has 8 sides, rolling the dice should produce one of the following values: \n",
    "# 1, 2, 3, 4, 5, 6, 7, 8\n",
    "\n",
    "# If the dice had only 4 sides, it could result one of the following values:\n",
    "# 1, 2, 3, 4\n",
    "\n",
    "# Recall that python has a special function random.randint(...) which takes in two numbers:\n",
    "# a minimum value and a maximum value. randint will return back a random whole number \n",
    "# which is greater than or equal to the min, and less than or equal to the max:\n",
    "\n",
    "# random.randint(5, 9) # returns one of [5, 6, 7, 8, 9] randomly\n",
    "\n",
    "# Note that you don't have to handle the case where the user enters invalid number of sides \n",
    "# (for example a 0, a negative number, or a non-integer).\n",
    "\n",
    "\n",
    "import random # Needed for randomness\n",
    "\n",
    "# Step 1: Get number of sides (basic input)\n",
    "sides = int(input(\"How many sides does your dice have? \"))\n",
    "\n",
    "# Step 2: Simulate roll (random selection)\n",
    "roll = random.randint(1, sides)\n",
    "\n",
    "# Step 3: Output (combine text and variable)\n",
    "print(f\"Your roll is {roll}\")"
   ]
  },
  {
   "cell_type": "code",
   "execution_count": 55,
   "id": "eb564c9c",
   "metadata": {},
   "outputs": [
    {
     "name": "stdout",
     "output_type": "stream",
     "text": [
      "Invalid door!\n"
     ]
    }
   ],
   "source": [
    "# choose a door\n",
    "\n",
    "door = int(input(\"Door: \"))\n",
    "\n",
    "# while the input is invalid\n",
    "while door < 1 or door > 3:\n",
    "\n",
    "    # tell the user the input was invalid\n",
    "    print(\"Invalid door!\")\n",
    "\n",
    "    # ask for a new input\n",
    "    door = int(input(\"Door: \"))\n",
    "    break"
   ]
  },
  {
   "cell_type": "code",
   "execution_count": null,
   "id": "ce9fd758",
   "metadata": {},
   "outputs": [],
   "source": [
    "# The Door Logic\n",
    "\n",
    "prize = 4\n",
    "\n",
    "if door == 1:\n",
    "    prize = 2 + 9 // 10 * 100\n",
    "\n",
    "elif door == 2:\n",
    "    locked = prize % 2 != 0\n",
    "    if not locked:\n",
    "        prize += 6\n",
    "\n",
    "elif door == 3:\n",
    "    for i in range(door):\n",
    "        prize += i\n"
   ]
  },
  {
   "cell_type": "code",
   "execution_count": null,
   "id": "0b4245a1",
   "metadata": {},
   "outputs": [
    {
     "name": "stdout",
     "output_type": "stream",
     "text": [
      "Guess a number between 1 and 100\n",
      "Your guess is too high\n",
      "Your guess is too low\n",
      "Your guess is too low\n",
      "Your guess is too low\n",
      "Congrats! The number was: 59\n"
     ]
    }
   ],
   "source": [
    "import random\n",
    "\n",
    "def main():\n",
    "\n",
    "    print(\"Guess a number between 1 and 100\")\n",
    "\n",
    "    # Generate the secret number at random!\n",
    "    secret_number = random.randint(1, 100)\n",
    "\n",
    "    guess_number = int(input(\"Guess a number :\"))\n",
    "\n",
    "    while guess_number != secret_number:\n",
    "        if guess_number < secret_number:\n",
    "            print(\"Your guess is too low\")\n",
    "        else:\n",
    "            print(\"Your guess is too high\")\n",
    "        guess_number = int(input(\"Guess a number again:\"))\n",
    "        \n",
    "    print(\"Congrats! The number was: \" + str(secret_number))\n",
    "\n",
    "if __name__ == '__main__':\n",
    "    main()"
   ]
  },
  {
   "cell_type": "code",
   "execution_count": 10,
   "id": "c1d05a86",
   "metadata": {},
   "outputs": [
    {
     "name": "stdout",
     "output_type": "stream",
     "text": [
      "2\n",
      "4\n",
      "6\n",
      "8\n",
      "10\n",
      "12\n",
      "14\n",
      "16\n",
      "18\n",
      "20\n",
      "22\n",
      "24\n",
      "26\n",
      "28\n",
      "30\n",
      "32\n",
      "34\n",
      "36\n",
      "38\n",
      "40\n"
     ]
    }
   ],
   "source": [
    "# Write a program that prints the first 20 even numbers. There are several correct approaches, but they all use a loop of some sort.\n",
    "#  Do no write twenty print statements :-)\n",
    "\n",
    "def main():\n",
    "    \n",
    "    for i in range(1, 41):\n",
    "        if (i % 2 == 0):\n",
    "            even_number = i\n",
    "            print(even_number)\n",
    "\n",
    "if __name__ == \"__main__\":\n",
    "    main()\n"
   ]
  },
  {
   "cell_type": "code",
   "execution_count": 13,
   "id": "6dd1154c",
   "metadata": {},
   "outputs": [
    {
     "name": "stdout",
     "output_type": "stream",
     "text": [
      "[2, 4, 6, 8, 10, 12, 14, 16, 18, 20, 22, 24, 26, 28, 30, 32, 34, 36, 38, 40]\n"
     ]
    }
   ],
   "source": [
    "# List Comprehension\n",
    "\n",
    "even_list = [i for i in range(1, 41) if i % 2 == 0]\n",
    "print(even_list)"
   ]
  },
  {
   "cell_type": "code",
   "execution_count": null,
   "id": "65abab00",
   "metadata": {},
   "outputs": [],
   "source": [
    "def main():\n",
    "    door = int(input(\"Door: \")) # Get user input for a door number\n",
    "\n",
    "    while door < 1 or door > 3: # While the input is invalid\n",
    "        print(\"Invalid door!\") # Tell the user the input was invalid\n",
    "        door = int(input(\"Door: \")) # Ask the user for a new input\n",
    "    \n",
    "    # Make an initial prize, we'll update it later based on which door is chosen!\n",
    "    prize = 4\n",
    "\n",
    "    if door == 1:\n",
    "        prize = 2 + 9 // 10 * 100\n",
    "    elif door == 2:\n",
    "        locked = prize % 2 != 0\n",
    "        if not locked:\n",
    "            prize += 6\n",
    "    elif door == 3:\n",
    "        for i in range(door):\n",
    "            prize += i\n",
    "\n",
    "    print(\"You win\", prize, \"prizes\")\n",
    "\n",
    "if __name__ == '__main__':\n",
    "    main()"
   ]
  },
  {
   "cell_type": "code",
   "execution_count": 2,
   "id": "de58ec55",
   "metadata": {},
   "outputs": [
    {
     "name": "stdout",
     "output_type": "stream",
     "text": [
      "Here is a joke for you! Karel is heading out to the grocery store. A programmer tells her: get a liter of milk, and if they have eggs, get 12. Karel returns with 13 liters of milk. The programmer asks why and Karel replies: 'because they had eggs'\n"
     ]
    }
   ],
   "source": [
    "# Write a simple joke bot.\n",
    " \n",
    "# The bot starts by asking the user what they want. However, your program will only respond to one response: Joke. \n",
    "\n",
    "# If the user enters Joke then we will print out a single joke. Each time the joke is always the same:\n",
    "\n",
    "# Here is a joke for you! Karel is heading out to the grocery store.\n",
    "# A programmer tells her: get a liter of milk, and if they have eggs, get 12. Karel returns with 13 liters of milk.\n",
    "# The programmer asks why and Karel replies: 'because they had eggs'\n",
    "\n",
    "# If the user enters anything else we print out:\n",
    "# Sorry I only tell jokes\n",
    "\n",
    "# You should use the three constants:\n",
    "# PROMPT\n",
    "# JOKE\n",
    "# SORRY\n",
    "# which contain the strings for the prompt asked to the user, the joke to print out if the user enters Joke and the sorry message \n",
    "# if the user enters anything else.\n",
    "\n",
    "# Your program will need to use an if statement which checks if the user input is Joke:\n",
    "#if user_input == \"Joke\":\n",
    "\n",
    "# Your program will need to use an if statement which checks if the user input is Joke:\n",
    "# if user_input == \"Joke\":\n",
    "\n",
    "# Recall that == is a comparison which tests if two values are equal to one another.\n",
    "\n",
    "# Here is a full run of the program (user input is in blue):\n",
    "\n",
    "# What do you want? Joke\n",
    "# Here is a joke for you! Karel is heading out to the grocery store. A programmer tells her: get a liter of milk, and if they have eggs, get 12. \n",
    "# Karel returns with 13 liters of milk. The programmer asks why and Karel replies: 'because they had eggs'\n",
    "\n",
    "PROMPT = \"What do you want? \"\n",
    "JOKE = \"Here is a joke for you! Karel is heading out to the grocery store. A programmer tells her: get a liter of milk, and if they have eggs, get 12. Karel returns with 13 liters of milk. The programmer asks why and Karel replies: 'because they had eggs'\"\n",
    "SORRY = \"Sorry I only tell jokes\"\n",
    "\n",
    "def main():\n",
    "    user_input = input(PROMPT)\n",
    "    if user_input == 'Joke':\n",
    "        print(JOKE)\n",
    "    else:\n",
    "        print(SORRY)\n",
    "\n",
    "if __name__==\"__main__\":\n",
    "    main()\n"
   ]
  },
  {
   "cell_type": "code",
   "execution_count": 11,
   "id": "e53d52ae",
   "metadata": {},
   "outputs": [
    {
     "name": "stdout",
     "output_type": "stream",
     "text": [
      "55\n",
      "79\n",
      "83\n",
      "24\n",
      "71\n",
      "37\n",
      "94\n",
      "77\n",
      "88\n",
      "27\n"
     ]
    }
   ],
   "source": [
    "import random\n",
    "\n",
    "N_NUMBERS = 10\n",
    "MIN_VALUE = 1\n",
    "MAX_VALUE = 100\n",
    "\n",
    "def main():\n",
    "\n",
    "    for N_NUMBERS in range(10):\n",
    "\n",
    "        total_numbers = 0\n",
    "        numbers = random.randint(MIN_VALUE, MAX_VALUE)\n",
    "        total_numbers += 1\n",
    "        print(numbers)\n",
    "\n",
    "if __name__ == '__main__':\n",
    "    main()"
   ]
  },
  {
   "cell_type": "code",
   "execution_count": 22,
   "id": "148e0cdb",
   "metadata": {},
   "outputs": [
    {
     "name": "stdout",
     "output_type": "stream",
     "text": [
      "10\n",
      "9\n",
      "8\n",
      "7\n",
      "6\n",
      "5\n",
      "4\n",
      "3\n",
      "2\n",
      "1\n",
      "Liftoff!\n"
     ]
    }
   ],
   "source": [
    "\"\"\"\n",
    "Program: Liftoff\n",
    "......................\n",
    "Countdown from 10 to 1 and then print Liftoff!\n",
    "\"\"\"\n",
    "\n",
    "def main():\n",
    "   \n",
    "    for i in range(10, 0, -1):\n",
    "        print(i)\n",
    "    print(\"Liftoff!\")\n",
    "                      \n",
    "if __name__ == '__main__':\n",
    "    main()"
   ]
  },
  {
   "cell_type": "code",
   "execution_count": 6,
   "id": "501b6944",
   "metadata": {},
   "outputs": [
    {
     "name": "stdout",
     "output_type": "stream",
     "text": [
      "4\n",
      "8\n",
      "16\n",
      "32\n",
      "64\n",
      "128\n"
     ]
    }
   ],
   "source": [
    "# Write a program that asks a user to enter a number. \n",
    "# Your program will then double that number and print out the result. \n",
    "# It will repeat that process until the value is 100 or greater.\n",
    "\n",
    "def main():\n",
    "\n",
    "    # Ask the user to enter a number\n",
    "    number = int(input(\"Enter a number: \"))\n",
    "\n",
    "    # Initialize curr_value with the entered number\n",
    "    curr_value = number\n",
    "\n",
    "    # Double the number and print until it's 100 or greater\n",
    "    while curr_value < 100:\n",
    "        curr_value = curr_value * 2\n",
    "        print(curr_value)\n",
    "\n",
    "if __name__ == \"__main__\":\n",
    "    main()"
   ]
  },
  {
   "cell_type": "code",
   "execution_count": null,
   "id": "30c7973d",
   "metadata": {},
   "outputs": [],
   "source": [
    "from stanfordkarel import *\n",
    "\n",
    "\"\"\"\n",
    "When you finish writing this file, Karel should be able to \n",
    "place 20 beepers, then 24 beepers, and end facing East to \n",
    "the right of the 24 beepers.\n",
    "\"\"\"\n",
    "\n",
    "def main():\n",
    "\n",
    "    for i in range(20):\n",
    "        put_beeper()\n",
    "    move()\n",
    "    \n",
    "    for i in range(24):\n",
    "        put_beeper()\n",
    "    move()\n",
    "\n",
    "if __name__ == '__main__':\n",
    "    main()\n"
   ]
  },
  {
   "cell_type": "code",
   "execution_count": null,
   "id": "07af166b",
   "metadata": {},
   "outputs": [],
   "source": [
    "import random\n",
    "\n",
    "def main():\n",
    "\n",
    "    print(\"Khansole Academy\")\n",
    "\n",
    "    # Generate two random 2-digit numbers\n",
    "    num1 = random.randint(10, 99)\n",
    "    print(num1)\n",
    "    num2 = random.randint(10, 99)\n",
    "    print(num2)\n",
    "    \n",
    "    # Ask the user to solve the problem\n",
    "    print(f\"What is {num1} + {num2}?\")\n",
    "\n",
    "    user_answer = int(input(\"Your answer: \"))\n",
    "\n",
    "    # Check correctness\n",
    "    correct_answer = num1 + num2\n",
    "\n",
    "    if user_answer == correct_answer:\n",
    "        print(\"Correct!\")\n",
    "    else:\n",
    "        print(\"Incorrect.\")\n",
    "        print(f\"The expected answer is {correct_answer}\")\n",
    "\n",
    "if __name__ == \"__main__\":\n",
    "    main()"
   ]
  },
  {
   "cell_type": "code",
   "execution_count": 2,
   "id": "3966a6c2",
   "metadata": {},
   "outputs": [],
   "source": [
    "from stanfordkarel import *\n",
    "\n",
    "# A warmup example. Makes karel place a diagonal\n",
    "# beeper line. Recall how while loops work, and\n",
    "# practice stepping up! We are going to use a \n",
    "# similar sequence of commands a few times today.\n",
    "\n",
    "def main():\n",
    "    # keep stepping up until the top\n",
    "    while front_is_clear():\n",
    "        # Assume: Karel is facing right (east)\n",
    "        put_beeper()\n",
    "        turn_left()\n",
    "        move()\n",
    "        turn_right()\n",
    "        move()\n",
    "    put_beeper()\n",
    "        \n",
    "    def turn_right():\n",
    "        # defines turn_right as 3X turn_left\n",
    "        for i in range(3):\n",
    "            turn_left"
   ]
  },
  {
   "cell_type": "code",
   "execution_count": null,
   "id": "841a26ec",
   "metadata": {},
   "outputs": [],
   "source": [
    "from stanfordkarel import *\n",
    "\n",
    "def main():\n",
    "    \"\"\"Build columns spaced 4 units apart, each 5 units high.\"\"\"\n",
    "    for _ in range(4): # There are 4 columns to build\n",
    "        build_column()\n",
    "        if front_is_clear():\n",
    "            move_to_next_column()\n",
    "\n",
    "def build_column():\n",
    "    \"\"\"Build a single column by placing 5 beepers vertically.\"\"\"\n",
    "    turn_left() # Face north to build upwards\n",
    "    for _ in range(5):\n",
    "        put_beeper()\n",
    "        if front_is_clear(): # Move up if not at top\n",
    "            move()\n",
    "    turn_around() # Face south to go back down\n",
    "    for _ in range(5): # Move back to base\n",
    "        if front_is_clear():\n",
    "            move()\n",
    "    turn_left() # Face east again\n",
    "\n",
    "def move_to_next_column():\n",
    "    \"\"\"Move to the next column position (4 squares to the right).\"\"\"\n",
    "    for _ in range(4):\n",
    "        move()\n",
    "\n",
    "def turn_around():\n",
    "    \"\"\"Turn Karel 180 degrees.\"\"\"\n",
    "    turn_left()\n",
    "    turn_left()\n",
    "\n",
    "# There is no need to edit code beyond this point\n",
    "if __name__ == '__main__':\n",
    "    run_karel_program()\n"
   ]
  },
  {
   "cell_type": "code",
   "execution_count": 2,
   "id": "250cd09e",
   "metadata": {},
   "outputs": [
    {
     "name": "stdout",
     "output_type": "stream",
     "text": [
      "Addition Mastery Academy\n",
      "What is 12 + 53?\n",
      "Correct answer!\n",
      "There are 1 correct in a row.\n",
      "What is 41 + 28?\n",
      "Correct answer!\n",
      "There are 2 correct in a row.\n",
      "What is 40 + 95?\n",
      "Correct answer!\n",
      "There are 3 correct in a row.\n",
      "Congratulations! You have mastered addition.\n"
     ]
    }
   ],
   "source": [
    "import random\n",
    "\n",
    "def main():\n",
    "\n",
    "    print(\"Addition Mastery Academy\")\n",
    "\n",
    "    correct_in_a_row = 0\n",
    "\n",
    "    while correct_in_a_row < 3:\n",
    "\n",
    "        # Random Number Generation for addition\n",
    "        input1 = random.randint(10, 99)\n",
    "        input2 = random.randint(10, 99)\n",
    "        correct_answer = input1 + input2\n",
    "\n",
    "        # Ask user an answer\n",
    "        print(f\"What is {input1} + {input2}?\")\n",
    "\n",
    "        try:\n",
    "            user_answer = int(input(\"The correct answer is \"))\n",
    "        except ValueError:\n",
    "            print(\"Please enter a valid number.\\n\")\n",
    "            continue\n",
    "\n",
    "    \n",
    "        # Check user_answer with correct_answer\n",
    "        if user_answer == correct_answer:\n",
    "            correct_in_a_row += 1\n",
    "            print(\"Correct answer!\")\n",
    "            print(f\"There are {correct_in_a_row} correct in a row.\")\n",
    "        else:\n",
    "            correct_in_a_row = 0\n",
    "            print(\"Incorrect Answer!\")\n",
    "            print(\"Try again.\")\n",
    "\n",
    "    print(\"Congratulations! You have mastered addition.\")\n",
    "\n",
    "if __name__ == '__main__':\n",
    "    main()"
   ]
  },
  {
   "cell_type": "code",
   "execution_count": null,
   "id": "24411ab5",
   "metadata": {},
   "outputs": [
    {
     "name": "stdout",
     "output_type": "stream",
     "text": [
      "\n",
      "\n",
      "\n",
      "\n",
      "\n",
      "\n",
      "\n",
      "\n",
      "\n",
      "\n",
      "\n",
      "Game over\n"
     ]
    }
   ],
   "source": [
    "# Simple Stone Game\n",
    "\n",
    "stones = 20\n",
    "\n",
    "while stones > 0:\n",
    "    \n",
    "    # Ask how many stones to remove\n",
    "    remove = int(input(f\"There are {stones} left. Would you like to remove 1 or 2 stones?\"))\n",
    "\n",
    "    # Validate input (though the problem says not to worry about it)\n",
    "    while remove < 1 or remove > 2:\n",
    "        remove = int(input(\"Please enter 1 or 2: \"))\n",
    "\n",
    "    # Remove stones\n",
    "    stones -= remove \n",
    "\n",
    "    # Add empty line between turns\n",
    "    print()\n",
    "\n",
    "# Game over\n",
    "print(\"Game over\")"
   ]
  },
  {
   "cell_type": "code",
   "execution_count": null,
   "id": "ab6bab8d",
   "metadata": {},
   "outputs": [
    {
     "name": "stdout",
     "output_type": "stream",
     "text": [
      "\n",
      "\n",
      "\n",
      "\n",
      "\n",
      "\n",
      "\n",
      "\n",
      "\n",
      "\n",
      "Game over\n"
     ]
    }
   ],
   "source": [
    "stones = 20\n",
    "\n",
    "while stones > 0:\n",
    "    \n",
    "    try:\n",
    "        # Ask how many stones to remove\n",
    "        remove = int(input(f\"There are {stones} stones left.  Would you like to remove 1 or 2 stones?\"))\n",
    "\n",
    "        # Remove stones (no validation)\n",
    "        stones -= remove\n",
    "\n",
    "        # Don't let stones go negative\n",
    "        if stones < 0:\n",
    "            stones = 0\n",
    "\n",
    "        # Add empty line between turns\n",
    "        print()\n",
    "    except ValueError:\n",
    "        print(\"Invalid input. Please enter a number.\") # Inform the user about the invalid input\n",
    "\n",
    "# Game over\n",
    "print(\"Game over\")"
   ]
  }
 ],
 "metadata": {
  "kernelspec": {
   "display_name": "venv",
   "language": "python",
   "name": "python3"
  },
  "language_info": {
   "codemirror_mode": {
    "name": "ipython",
    "version": 3
   },
   "file_extension": ".py",
   "mimetype": "text/x-python",
   "name": "python",
   "nbconvert_exporter": "python",
   "pygments_lexer": "ipython3",
   "version": "3.12.3"
  }
 },
 "nbformat": 4,
 "nbformat_minor": 5
}
