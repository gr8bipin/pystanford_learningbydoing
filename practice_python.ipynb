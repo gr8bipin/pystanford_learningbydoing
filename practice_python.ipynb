{
 "cells": [
  {
   "cell_type": "code",
   "execution_count": 14,
   "id": "15216927",
   "metadata": {},
   "outputs": [],
   "source": [
    "# Python random library"
   ]
  },
  {
   "cell_type": "code",
   "execution_count": 15,
   "id": "cb4d1a30",
   "metadata": {},
   "outputs": [],
   "source": [
    "import random"
   ]
  },
  {
   "cell_type": "code",
   "execution_count": 18,
   "id": "ef7b2631",
   "metadata": {},
   "outputs": [
    {
     "name": "stdout",
     "output_type": "stream",
     "text": [
      "The random number between min and max numbers is 5\n"
     ]
    }
   ],
   "source": [
    "# Write a program that returns a random integer between min and max, inclusive.\n",
    "\n",
    "def main():\n",
    "    number = [0, 1, 2, 3, 4, 5]\n",
    "    min = 0\n",
    "    max = 5\n",
    "    num = random.randint(min, max)\n",
    "    print(\"The random number between min and max numbers is\", num)\n",
    "\n",
    "if __name__ == \"__main__\":\n",
    "    main()"
   ]
  },
  {
   "cell_type": "code",
   "execution_count": 25,
   "id": "3960bf2e",
   "metadata": {},
   "outputs": [
    {
     "name": "stdout",
     "output_type": "stream",
     "text": [
      "The real random number between 0 and 1 is 0.7499282405926926\n"
     ]
    }
   ],
   "source": [
    "# Write a program that returns a random real number (float) between 0 and 1.\n",
    "\n",
    "def main():\n",
    "    random_real_number = random.random()\n",
    "    print(\"The real random number between 0 and 1 is\", random_real_number)\n",
    "\n",
    "if __name__ == \"__main__\":\n",
    "    main()"
   ]
  },
  {
   "cell_type": "code",
   "execution_count": 34,
   "id": "f42c6485",
   "metadata": {},
   "outputs": [
    {
     "name": "stdout",
     "output_type": "stream",
     "text": [
      "The random real number(float) between min and max is 0.9829713899622888\n"
     ]
    }
   ],
   "source": [
    "# Write a program to return a random real number (float) between min and max.\n",
    "\n",
    "def main():\n",
    "    number = [0, 1, 2, 3, 4, 5]\n",
    "    min = 0\n",
    "    max = 5\n",
    "    random_real_number = random.uniform(min, max)\n",
    "    print(\"The random real number(float) between min and max is\", random_real_number)\n",
    "\n",
    "if __name__ == \"__main__\":\n",
    "    main()"
   ]
  },
  {
   "cell_type": "code",
   "execution_count": 43,
   "id": "21100112",
   "metadata": {},
   "outputs": [
    {
     "name": "stdout",
     "output_type": "stream",
     "text": [
      "---Using Seed: 123---\n",
      "Generated numbers:\n",
      "1\n",
      "5\n",
      "2\n",
      "---------------\n",
      "---Using Seed: 123---\n",
      "Generated numbers:\n",
      "1\n",
      "5\n",
      "2\n",
      "---------------\n",
      "---Using Seed: 123---\n",
      "Generated numbers:\n",
      "1\n",
      "5\n",
      "2\n",
      "---------------\n",
      "---Using Seed: 456---\n",
      "Generated numbers:\n",
      "8\n",
      "8\n",
      "7\n",
      "---------------\n",
      "---Running without explicit seed---\n",
      "Generated numbers:\n",
      "7\n",
      "1\n",
      "10\n"
     ]
    }
   ],
   "source": [
    "# Write a simple program that uses random.seed() to demonstrate how it makes random number generation predictable.\n",
    "\n",
    "\"\"\"Simple program with random.seed()\"\"\"\n",
    "\n",
    "def generate_numbers_with_seed(seed_value):\n",
    "\n",
    "    \"\"\"\n",
    "    Sets a specific random seed and generates a sequence of random numbers.\n",
    "    \"\"\"\n",
    "\n",
    "    print(f\"---Using Seed: {seed_value}---\")\n",
    "    # Set the random seed\n",
    "    random.seed(seed_value)\n",
    "\n",
    "    # Generate and print 3 random integers between 1 and 10\n",
    "    print(\"Generated numbers:\")\n",
    "    for _ in range(3):\n",
    "        print(random.randint(1, 10))\n",
    "    print(\"-\" * 15)\n",
    "\n",
    "    # Run the function with the same seed multiple times\n",
    "generate_numbers_with_seed(123)\n",
    "generate_numbers_with_seed(123)\n",
    "generate_numbers_with_seed(123)\n",
    "\n",
    "    # Run the function with a different seed\n",
    "generate_numbers_with_seed(456)\n",
    "\n",
    "    # Run without setting a seed (will likely produce different results each time)\n",
    "print(\"---Running without explicit seed---\")\n",
    "print(\"Generated numbers:\")\n",
    "for _ in range(3):\n",
    "    print(random.randint(1, 10))"
   ]
  },
  {
   "cell_type": "code",
   "execution_count": 45,
   "id": "e13c8df8",
   "metadata": {},
   "outputs": [
    {
     "name": "stdout",
     "output_type": "stream",
     "text": [
      "Dice have 6 sides each.\n",
      "First die: 6\n",
      "Second die: 5\n",
      "Total of two dice: 11\n"
     ]
    }
   ],
   "source": [
    "# rolldice.py\n",
    "\n",
    "# Example of using random library\n",
    "\n",
    "\"\"\"\n",
    "File: rolldice.py\n",
    "-----------------\n",
    "Simulate rolling two dice\n",
    "\"\"\"\n",
    "\n",
    "import random\n",
    "\n",
    "NUM_SIDES = 6\n",
    "\n",
    "def main():\n",
    "    # setting seed is useful for debugging\n",
    "    # random.seed(1)\n",
    "\n",
    "    die1 = random.randint(1, NUM_SIDES)\n",
    "    die2 = random.randint(1, NUM_SIDES)\n",
    "    total = die1 + die2\n",
    "    print(\"Dice have\", NUM_SIDES, \"sides each.\")\n",
    "    print(\"First die:\", die1)\n",
    "    print(\"Second die:\", die2)\n",
    "    print(\"Total of two dice:\", total)\n",
    "\n",
    "if __name__ == \"__main__\":\n",
    "    main()"
   ]
  },
  {
   "cell_type": "code",
   "execution_count": null,
   "id": "b5f94f75",
   "metadata": {},
   "outputs": [
    {
     "name": "stdout",
     "output_type": "stream",
     "text": [
      "die1 in main() starts as: 10\n",
      "Total of two dice: 9\n",
      "Total of two dice: 7\n",
      "Total of two dice: 9\n",
      "die1 in main() is: 10\n"
     ]
    }
   ],
   "source": [
    "# dicesimulator.py\n",
    "# This code simulates rolling two dice multiple times.\n",
    "\n",
    "import random\n",
    "\n",
    "NUM_SIDES = 6\n",
    "\n",
    "def main():\n",
    "    die1 = 10\n",
    "    print(\"die1 in main() starts as: \" + str(die1))\n",
    "    roll_dice()\n",
    "    roll_dice()\n",
    "    roll_dice()\n",
    "    print(\"die1 in main() is: \" + str(die1))\n",
    "\n",
    "def roll_dice():\n",
    "    die1 = random.randint(1, NUM_SIDES)\n",
    "    die2 = random.randint(1, NUM_SIDES)\n",
    "    total = die1 + die2\n",
    "    print(\"Total of two dice: \" + str(total))\n",
    "\n",
    "if __name__ == \"__main__\":\n",
    "    main()"
   ]
  },
  {
   "cell_type": "code",
   "execution_count": null,
   "id": "2ec705fd",
   "metadata": {},
   "outputs": [
    {
     "name": "stdout",
     "output_type": "stream",
     "text": [
      "The result of this division is 1 with a remainder of 2.\n"
     ]
    }
   ],
   "source": [
    "# Ask the user for two numbers, one at a time, and \n",
    "# then print the result of dividing the first number by the second \n",
    "# and also the remainder of the division.\n",
    " \n",
    "# Here's a sample run of the program (user input is in bold italics):\n",
    "\n",
    "# Please enter an integer to be divided: 5\n",
    "# Please enter an integer to divide by: 3\n",
    "# The result of this division is 1 with a remainder of 2\n",
    "\n",
    "def main():\n",
    "\n",
    "    num1 = int(input(\"Please enter an integer to be divided: \"))\n",
    "    num2 = int(input(\"Please enter an integer to divide by: \"))\n",
    "\n",
    "    result1 = num1 // num2\n",
    "    result2 = num1 % num2\n",
    "\n",
    "    print(\"The result of this division is \" + str(result1) + \" with a remainder of \" + str(result2) + \".\")\n",
    "\n",
    "if __name__ == \"__main__\":\n",
    "    main()"
   ]
  },
  {
   "cell_type": "code",
   "execution_count": null,
   "id": "b32487a3",
   "metadata": {},
   "outputs": [],
   "source": [
    "# Use Python to calculate the number of seconds in a year, \n",
    "# and tell the user what the result is in a nice print statement\n",
    "# that looks like this (of course the value 5 should be the calculated number instead):\n",
    "\n",
    "# There are 5 seconds in a year!\n",
    "\n",
    "# You should use constants for this exercise -- there are 365 days in a year, 24 hours in a day,\n",
    "# 60 minutes in an hour, and 60 seconds per minute.\n",
    "\n",
    "def main():\n",
    "\n",
    "    DAYS_IN_ONE_YEAR = 365\n",
    "    HOURS_IN_ONE_DAY = 24\n",
    "    MINUTES_IN_ONE_HOUR = 60\n",
    "    SECONDS_IN_ONE_MINUTE = 60\n",
    "\n",
    "    total_seconds_in_one_year = DAYS_IN_ONE_YEAR * HOURS_IN_ONE_DAY * MINUTES_IN_ONE_HOUR * SECONDS_IN_ONE_MINUTE\n",
    "\n",
    "    print(\"There are \" + str(total_seconds_in_one_year) + \" seconds in a year!\")\n",
    "\n",
    "if __name__ == '__main__':\n",
    "    main()\n"
   ]
  }
 ],
 "metadata": {
  "kernelspec": {
   "display_name": "venv",
   "language": "python",
   "name": "python3"
  },
  "language_info": {
   "codemirror_mode": {
    "name": "ipython",
    "version": 3
   },
   "file_extension": ".py",
   "mimetype": "text/x-python",
   "name": "python",
   "nbconvert_exporter": "python",
   "pygments_lexer": "ipython3",
   "version": "3.12.3"
  }
 },
 "nbformat": 4,
 "nbformat_minor": 5
}
