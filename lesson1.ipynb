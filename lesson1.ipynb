{
 "cells": [
  {
   "cell_type": "code",
   "execution_count": 22,
   "id": "f96a0b5f",
   "metadata": {},
   "outputs": [],
   "source": [
    "# This tells python who Karel is!\n",
    "from stanfordkarel import *"
   ]
  },
  {
   "cell_type": "code",
   "execution_count": 23,
   "id": "ccf09c1a",
   "metadata": {},
   "outputs": [],
   "source": [
    "# this program executes in a special function called main\n",
    "def main():\n",
    "    move()\n",
    "    pick_beeper()\n",
    "    move()\n",
    "    turn_left()\n",
    "    move()\n",
    "    turn_right()\n",
    "    move()\n",
    "    put_beeper()\n",
    "    move()\n",
    "\n",
    "# the definition of turn_right\n",
    "def turn_right():\n",
    "    turn_left()\n",
    "    turn_left()\n",
    "    turn_left()\n",
    "\n",
    "# This is \"boilerplate\" code which launches your code\n",
    "# when you hit the run button\n",
    "if __name__ == '__main__':\n",
    "    main()"
   ]
  }
 ],
 "metadata": {
  "kernelspec": {
   "display_name": "venv",
   "language": "python",
   "name": "python3"
  },
  "language_info": {
   "codemirror_mode": {
    "name": "ipython",
    "version": 3
   },
   "file_extension": ".py",
   "mimetype": "text/x-python",
   "name": "python",
   "nbconvert_exporter": "python",
   "pygments_lexer": "ipython3",
   "version": "3.12.3"
  }
 },
 "nbformat": 4,
 "nbformat_minor": 5
}
